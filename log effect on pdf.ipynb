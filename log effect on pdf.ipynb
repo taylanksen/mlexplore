{
 "cells": [
  {
   "cell_type": "code",
   "execution_count": 94,
   "metadata": {},
   "outputs": [],
   "source": [
    "import numpy as np\n",
    "import matplotlib.pyplot as plt"
   ]
  },
  {
   "cell_type": "code",
   "execution_count": 95,
   "metadata": {},
   "outputs": [],
   "source": [
    "# Consider a data distribution represented by a truncated Gaussian\n",
    "# with a mean at 100 that only consists of positive values.\n",
    "# We can loosely consider this as a measurement of the amount of \n",
    "# noise in terms of pressure magnitude we hear in the Wegman's hall foyer.\n",
    "samples = np.random.normal(loc = 100, scale=85, size=5000000)\n",
    "samples = samples[samples > 0]"
   ]
  },
  {
   "cell_type": "code",
   "execution_count": 96,
   "metadata": {},
   "outputs": [],
   "source": [
    "# Two scientists wish to sample the noise and determine what is the most \n",
    "# likely level of noise (i.e. the mode, or the max in a histogram/pdf)\n",
    "# Scientist A uses a measurement device that measures the sound wave's amplitude.\n",
    "# Scientist B uses a measurement device that measures the sound's amplitude on a log scale\n",
    "# Assuming their devices are noise free and they sample at the same times, below is a\n",
    "# representation of their data input\n",
    "samplesA = samples \n",
    "samplesB = np.log(samplesA)"
   ]
  },
  {
   "cell_type": "code",
   "execution_count": 97,
   "metadata": {},
   "outputs": [
    {
     "data": {
      "image/png": "[encoded data removed]",
      "text/plain": [
       "<matplotlib.figure.Figure at 0x7f0c222c6208>"
      ]
     },
     "metadata": {},
     "output_type": "display_data"
    },
    {
     "data": {
      "image/png": "[encoded data removed]",
      "text/plain": [
       "<matplotlib.figure.Figure at 0x7f0c213f3b70>"
      ]
     },
     "metadata": {},
     "output_type": "display_data"
    }
   ],
   "source": [
    "# Here are the histograms of their data\n",
    "nA, binsA, patchesA = plt.hist(samplesA, bins=200)\n",
    "plt.show()\n",
    "nB, binsB, patchesB = plt.hist(samplesB, bins=np.linspace(-2,7,200))\n",
    "plt.show()"
   ]
  },
  {
   "cell_type": "code",
   "execution_count": 98,
   "metadata": {},
   "outputs": [
    {
     "name": "stdout",
     "output_type": "stream",
     "text": [
      "ml for A: 103.84645378654992\n",
      "ml for B: 4.964824120603016\n"
     ]
    }
   ],
   "source": [
    "# Where do the peaks in each histogram occur?\n",
    "mlA = binsA[np.argmax(nA)]\n",
    "print('ml for A:',mlA)\n",
    "mlB = binsB[np.argmax(nB)]\n",
    "print('ml for B:',mlB)"
   ]
  },
  {
   "cell_type": "code",
   "execution_count": 99,
   "metadata": {},
   "outputs": [
    {
     "name": "stdout",
     "output_type": "stream",
     "text": [
      "exp(ml for B) : 143.2833474683312\n",
      "not equal to ml for A!: 103.84645378654992\n"
     ]
    }
   ],
   "source": [
    "# now if we take the maximum value from B and convert that back into \n",
    "# the same linear scale that A uses, we see they correspond to different \n",
    "# values\n",
    "mlBA = np.exp(mlB)\n",
    "print('exp(ml for B) :',mlBA)\n",
    "print('not equal to ml for A!:', mlA)"
   ]
  },
  {
   "cell_type": "markdown",
   "metadata": {},
   "source": [
    "The type of measurement tool you use changes what you consider to be the maximum likelihood measurement. This makes the maximum likelihood solution less trustworthy, as it is partially an artifact of your representation scheme. A researcher could manipulate the \"ideal solution\" by just changing the input representation with a rather innocuous looking transform. For example, if the data is squared error instead of error, this nonlinear transform will effect the ML solution. Similarly, a log scale vs a linear scale will have the effect we saw in the above example. "
   ]
  }
 ],
 "metadata": {
  "kernelspec": {
   "display_name": "Python [conda env:py36]",
   "language": "python",
   "name": "conda-env-py36-py"
  },
  "language_info": {
   "codemirror_mode": {
    "name": "ipython",
    "version": 3
   },
   "file_extension": ".py",
   "mimetype": "text/x-python",
   "name": "python",
   "nbconvert_exporter": "python",
   "pygments_lexer": "ipython3",
   "version": "3.6.4"
  }
 },
 "nbformat": 4,
 "nbformat_minor": 2
}
